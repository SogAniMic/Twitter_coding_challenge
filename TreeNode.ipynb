{
 "cells": [
  {
   "cell_type": "markdown",
   "id": "76739a53",
   "metadata": {},
   "source": [
    "# Given a binary tree, find the lowest common ancestor (LCA) of two given nodes in the tree. Assume that each node in the tree also has a pointer to its parent.\n",
    "\n",
    "According to the definition of LCA on Wikipedia: “The lowest common ancestor is defined between two nodes v and w as the lowest node in T that has both v and w as descendants (where we allow a node to be a descendant of itself).”"
   ]
  },
  {
   "cell_type": "code",
   "execution_count": null,
   "id": "3992f9c5",
   "metadata": {},
   "outputs": [],
   "source": [
    "class TreeNode:\n",
    "    def __init__(self, val):\n",
    "        self.left = None\n",
    "        self.right = None\n",
    "        self.parent = None\n",
    "        self.val = val\n",
    "\n",
    "def lca(root, a, b):\n",
    "    def depth(node):\n",
    "        count = 0\n",
    "        while node:\n",
    "            count += 1\n",
    "            node = node.parent\n",
    "        return count\n",
    "\n",
    "    depth_a, depth_b = depth(a), depth(b)\n",
    "    if depth_a < depth_b:\n",
    "        while depth_a < depth_b:\n",
    "            b = b.parent\n",
    "            depth_b -= 1\n",
    "    elif depth_a > depth_b:\n",
    "        while depth_a > depth_b:\n",
    "            a = a.parent\n",
    "            depth_a -= 1\n",
    "\n",
    "    while a and b and (a is not b):\n",
    "        a = a.parent\n",
    "        b = b.parent\n",
    "\n",
    "    return a if (a is b) else None"
   ]
  }
 ],
 "metadata": {
  "kernelspec": {
   "display_name": "Python 3 (ipykernel)",
   "language": "python",
   "name": "python3"
  },
  "language_info": {
   "codemirror_mode": {
    "name": "ipython",
    "version": 3
   },
   "file_extension": ".py",
   "mimetype": "text/x-python",
   "name": "python",
   "nbconvert_exporter": "python",
   "pygments_lexer": "ipython3",
   "version": "3.9.13"
  }
 },
 "nbformat": 4,
 "nbformat_minor": 5
}
