{
 "cells": [
  {
   "cell_type": "markdown",
   "id": "f951bba4",
   "metadata": {},
   "source": [
    "# Implement an autocomplete system. That is, given a query string s and a set of all possible query strings, return all strings in the set that have s as a prefix.\n",
    "\n",
    "For example, given the query string de and the set of strings [dog, deer, deal], return [deer, deal].\n",
    "\n",
    "Hint: Try preprocessing the dictionary into a more efficient data structure to speed up queries."
   ]
  },
  {
   "cell_type": "code",
   "execution_count": null,
   "id": "3afd1b79",
   "metadata": {},
   "outputs": [],
   "source": [
    "class Trie(object):\n",
    "    def __init__(self):\n",
    "        self._trie = {}\n",
    "\n",
    "    def insert(self, text):\n",
    "        trie = self._trie\n",
    "        for char in text:\n",
    "            if char not in trie:\n",
    "                trie[char] = {}\n",
    "            trie = trie[char]\n",
    "        trie[ENDS_HERE] = True\n",
    "\n",
    "    def elements(self, prefix):\n",
    "        d = self._trie\n",
    "        for char in prefix:\n",
    "            if char in d:\n",
    "                d = d[char]\n",
    "            else:\n",
    "                return []\n",
    "        return self._elements(d)\n",
    "\n",
    "    def _elements(self, d):\n",
    "        result = []\n",
    "        for c, v in d.items():\n",
    "            if c == ENDS_HERE:\n",
    "                subresult = ['']\n",
    "            else:\n",
    "                subresult = [c + s for s in self._elements(v)]\n",
    "            result.extend(subresult)\n",
    "        return result\n",
    "\n",
    "trie = Trie()\n",
    "for word in words:\n",
    "    trie.insert(word)\n",
    "\n",
    "def autocomplete(s):\n",
    "    suffixes = trie.elements(s)\n",
    "    return [s + w for w in suffixes]"
   ]
  }
 ],
 "metadata": {
  "kernelspec": {
   "display_name": "Python 3 (ipykernel)",
   "language": "python",
   "name": "python3"
  },
  "language_info": {
   "codemirror_mode": {
    "name": "ipython",
    "version": 3
   },
   "file_extension": ".py",
   "mimetype": "text/x-python",
   "name": "python",
   "nbconvert_exporter": "python",
   "pygments_lexer": "ipython3",
   "version": "3.9.13"
  }
 },
 "nbformat": 4,
 "nbformat_minor": 5
}
